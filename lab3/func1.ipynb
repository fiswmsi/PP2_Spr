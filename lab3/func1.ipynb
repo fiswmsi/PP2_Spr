{
 "cells": [
  {
   "cell_type": "code",
   "execution_count": 61,
   "metadata": {},
   "outputs": [
    {
     "name": "stdout",
     "output_type": "stream",
     "text": [
      "5.0 grams is equal to 141.7476155 ounces\n"
     ]
    }
   ],
   "source": [
    "#1\n",
    "def gto(grams):\n",
    "    ounces = 28.3495231 * grams\n",
    "    return ounces\n",
    "\n",
    "grams = float(input())\n",
    "print(f\"{grams} grams is equal to {gto(grams)} ounces\")\n"
   ]
  },
  {
   "cell_type": "code",
   "execution_count": 3,
   "metadata": {},
   "outputs": [
    {
     "name": "stdout",
     "output_type": "stream",
     "text": [
      "65.0 Fahrenheit is equal to 18.33 Celsius\n"
     ]
    }
   ],
   "source": [
    "#2\n",
    "def ftc(fit):\n",
    "    celsius = (5 / 9) * (fit - 32)\n",
    "    return celsius\n",
    "\n",
    "fit = float(input())\n",
    "print(f\"{fit} Fahrenheit is equal to {ftc(fit):.2f} Celsius\")\n"
   ]
  },
  {
   "cell_type": "code",
   "execution_count": 15,
   "metadata": {},
   "outputs": [
    {
     "name": "stdout",
     "output_type": "stream",
     "text": [
      "23 rabbits and 12 chickens\n"
     ]
    }
   ],
   "source": [
    "#3\n",
    "def rc(heads, legs):\n",
    "    for ch in range(heads + 1):\n",
    "        if(ch * 2 + (heads - ch) * 4 == legs):\n",
    "            return ch\n",
    "        \n",
    "    return 0\n",
    "\n",
    "hd = int(input())\n",
    "lg = int(input())\n",
    "\n",
    "print(f\"{rc(hd, lg)} rabbits and {hd - rc(hd, lg)} chickens\")"
   ]
  },
  {
   "cell_type": "code",
   "execution_count": 75,
   "metadata": {},
   "outputs": [
    {
     "name": "stdout",
     "output_type": "stream",
     "text": [
      "[5, 3, 7]\n"
     ]
    }
   ],
   "source": [
    "#4\n",
    "def is_prime(n):\n",
    "    if n < 2:\n",
    "        return False\n",
    "    for i in range(2, n):\n",
    "        if n % i == 0:\n",
    "            return False\n",
    "    return True\n",
    "\n",
    "def filter_prime(numbers):\n",
    "    return [n for n in numbers if is_prime(n)]\n",
    "\n",
    "nums = list(map(int, input().split()))\n",
    "print(filter_prime(nums))"
   ]
  },
  {
   "cell_type": "code",
   "execution_count": 23,
   "metadata": {},
   "outputs": [
    {
     "name": "stdout",
     "output_type": "stream",
     "text": [
      "hi\n",
      "ih\n"
     ]
    }
   ],
   "source": [
    "#5\n",
    "from itertools import permutations\n",
    "\n",
    "def per(s):\n",
    "    for perm in permutations(s):\n",
    "        print(''.join(perm))\n",
    "\n",
    "user_input = input(\"Enter a string: \")\n",
    "per(user_input)"
   ]
  },
  {
   "cell_type": "code",
   "execution_count": 80,
   "metadata": {},
   "outputs": [
    {
     "name": "stdout",
     "output_type": "stream",
     "text": [
      "['ready', 'are', 'we']\n"
     ]
    }
   ],
   "source": [
    "#6\n",
    "def rse(s):\n",
    "    words = s.split()  # Разделяем на слова\n",
    "    words.reverse() \n",
    "    print(' '.join(words))\n",
    "\n",
    "    #for word in words:  # Выводим каждое слово\n",
    "    #print(word, end=' ')\n",
    "\n",
    "sen = input()\n",
    "rse(sen)"
   ]
  },
  {
   "cell_type": "code",
   "execution_count": 51,
   "metadata": {},
   "outputs": [
    {
     "name": "stdout",
     "output_type": "stream",
     "text": [
      "True\n"
     ]
    }
   ],
   "source": [
    "\n",
    "#7\n",
    "def has_33(nums):\n",
    "    k = 0\n",
    "\n",
    "    for i in range(len(nums) - 1):\n",
    "        if nums[i] == 3 and nums[i + 1] == 3:\n",
    "            k = 1\n",
    "    \n",
    "    if(k):\n",
    "        return True\n",
    "    else:\n",
    "        return False\n",
    "\n",
    "numbers = []\n",
    "n = int(input())\n",
    "\n",
    "for i in range(n):\n",
    "    m = int(input())\n",
    "    numbers.append(m)\n",
    "\n",
    "print(has_33(numbers))"
   ]
  },
  {
   "cell_type": "code",
   "execution_count": 53,
   "metadata": {},
   "outputs": [
    {
     "name": "stdout",
     "output_type": "stream",
     "text": [
      "True\n"
     ]
    }
   ],
   "source": [
    "#8\n",
    "def has_007(nums):\n",
    "    k = 0\n",
    "\n",
    "    for i in range(len(nums) - 2):\n",
    "        if nums[i] == 0 and nums[i + 1] == 0 and nums[i + 2] == 7:\n",
    "            k = 1\n",
    "    \n",
    "    if(k):\n",
    "        return True\n",
    "    else:\n",
    "        return False\n",
    "\n",
    "numbers = []\n",
    "n = int(input())\n",
    "\n",
    "for i in range(n):\n",
    "    m = int(input())\n",
    "    numbers.append(m)\n",
    "\n",
    "print(has_007(numbers))"
   ]
  },
  {
   "cell_type": "code",
   "execution_count": 56,
   "metadata": {},
   "outputs": [
    {
     "name": "stdout",
     "output_type": "stream",
     "text": [
      "4.1887902047863905\n"
     ]
    }
   ],
   "source": [
    "#9\n",
    "import math\n",
    "\n",
    "def volume(num):\n",
    "    return 4/3 * math.pi * num**2\n",
    "\n",
    "n = int(input())\n",
    "\n",
    "print(volume(n))"
   ]
  },
  {
   "cell_type": "code",
   "execution_count": 81,
   "metadata": {},
   "outputs": [
    {
     "name": "stdout",
     "output_type": "stream",
     "text": [
      "[6, 4, 5, 3, 64]\n"
     ]
    }
   ],
   "source": [
    "#10\n",
    "def unique_elements(lst):\n",
    "    unq = []\n",
    "    for i in lst:\n",
    "        if i not in unq:\n",
    "            unq.append(i)\n",
    "    return unq\n",
    "\n",
    "nums = list(map(int, input().split()))\n",
    "print(unique_elements(nums))"
   ]
  },
  {
   "cell_type": "code",
   "execution_count": 90,
   "metadata": {},
   "outputs": [
    {
     "name": "stdout",
     "output_type": "stream",
     "text": [
      "Palindrome\n"
     ]
    }
   ],
   "source": [
    "#11\n",
    "def is_palindrome(text):\n",
    "    text = text.lower()  \n",
    "    text = text.replace(\" \", \"\")\n",
    "    rtext = text[::-1] \n",
    "    if text == rtext:\n",
    "        return True\n",
    "    else:\n",
    "        return False\n",
    "\n",
    "word = input()\n",
    "\n",
    "if is_palindrome(word):\n",
    "    print(\"Palindrome\")\n",
    "else:\n",
    "    print(\"Not a palindrome\")"
   ]
  },
  {
   "cell_type": "code",
   "execution_count": 77,
   "metadata": {},
   "outputs": [
    {
     "name": "stdout",
     "output_type": "stream",
     "text": [
      "*****\n",
      "*****\n",
      "*******************************************************************\n"
     ]
    }
   ],
   "source": [
    "#12\n",
    "\n",
    "def histogram(lst):\n",
    "    for num in lst:\n",
    "        print('*' * num)\n",
    "\n",
    "nums = list(map(int, input().split()))\n",
    "histogram(nums)       "
   ]
  },
  {
   "cell_type": "code",
   "execution_count": 91,
   "metadata": {},
   "outputs": [
    {
     "name": "stdout",
     "output_type": "stream",
     "text": [
      "Hello! What is your name?\n",
      "\n",
      "Well, kbtu, I am thinking of a number between 1 and 20.\n",
      "Take a guess.\n",
      "Your guess is too low.\n",
      "Take a guess.\n",
      "Good job, kbtu! You guessed my number in 2 guesses!\n"
     ]
    }
   ],
   "source": [
    "#13\n",
    "import random\n",
    "\n",
    "def guess_the_number():\n",
    "    print(\"Hello! What is your name?\")\n",
    "    name = input()\n",
    "\n",
    "    randnum = random.randint(1, 20)\n",
    "    cnt = 0\n",
    "\n",
    "    print(f\"\\nWell, {name}, I am thinking of a number between 1 and 20.\")\n",
    "\n",
    "    while True:\n",
    "        print(\"Take a guess.\")\n",
    "        guess = int(input())\n",
    "        cnt += 1\n",
    "\n",
    "        if guess < randnum:\n",
    "            print(\"Your guess is too low.\")\n",
    "        elif guess > randnum:\n",
    "            print(\"Your guess is too high.\")\n",
    "        else:\n",
    "            print(f\"Good job, {name}! You guessed my number in {cnt} guesses!\")\n",
    "            break\n",
    "\n",
    "guess_the_number()"
   ]
  },
  {
   "cell_type": "code",
   "execution_count": 93,
   "metadata": {},
   "outputs": [
    {
     "name": "stdout",
     "output_type": "stream",
     "text": [
      "Hello! What is your name?\n",
      "\n",
      "Well, d, I am thinking of a number between 1 and 20.\n",
      "Take a guess.\n",
      "Your guess is too low.\n",
      "Take a guess.\n",
      "Your guess is too low.\n",
      "Take a guess.\n",
      "Your guess is too low.\n",
      "Take a guess.\n",
      "Your guess is too low.\n",
      "Take a guess.\n",
      "Your guess is too low.\n",
      "Take a guess.\n",
      "Your guess is too low.\n",
      "Take a guess.\n",
      "Your guess is too low.\n",
      "Take a guess.\n",
      "Your guess is too low.\n",
      "Take a guess.\n",
      "Good job, d! You guessed my number in 9 guesses!\n"
     ]
    }
   ],
   "source": [
    "#14\n",
    "from gnum import guess_the_number\n",
    "\n",
    "guess_the_number()\n",
    "\n"
   ]
  }
 ],
 "metadata": {
  "kernelspec": {
   "display_name": "Python 3",
   "language": "python",
   "name": "python3"
  },
  "language_info": {
   "codemirror_mode": {
    "name": "ipython",
    "version": 3
   },
   "file_extension": ".py",
   "mimetype": "text/x-python",
   "name": "python",
   "nbconvert_exporter": "python",
   "pygments_lexer": "ipython3",
   "version": "3.9.6"
  }
 },
 "nbformat": 4,
 "nbformat_minor": 2
}
