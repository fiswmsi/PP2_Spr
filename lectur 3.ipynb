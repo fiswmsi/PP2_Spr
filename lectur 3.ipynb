{
 "cells": [
  {
   "cell_type": "code",
   "execution_count": 28,
   "metadata": {},
   "outputs": [
    {
     "name": "stdout",
     "output_type": "stream",
     "text": [
      "00:59:59\n",
      "01:00:00\n"
     ]
    }
   ],
   "source": [
    "class tm:\n",
    "    def __init__(self, hour , minute, second):\n",
    "        self.second = second\n",
    "        self.minute = minute\n",
    "        self.hour = hour\n",
    "\n",
    "    def __str__(self):\n",
    "        return f\"{self.hour:02}:{self.minute:02}:{self.second:02}\"\n",
    "    \n",
    "    def inc_min(self):\n",
    "        self.minute += 1\n",
    "\n",
    "    def dec_min(self):\n",
    "        self.minute += 1\n",
    "\n",
    "    def inc_sec(self):\n",
    "        self.second += 1\n",
    "\n",
    "    def dec_sec(self):\n",
    "        self.second -= 1\n",
    "\n",
    "    def cor(self):\n",
    "        if(self.second >= 60):\n",
    "            self.second %= 60\n",
    "            self.minute += 1\n",
    "\n",
    "        if(self.minute >= 60):\n",
    "            self.minute %= 60\n",
    "            self.hour += 1\n",
    "\n",
    "        if(self.hour >= 24):\n",
    "            self.hour %= 24\n",
    "\n",
    "    \n",
    "\n",
    "h = int(input())\n",
    "m = int(input())\n",
    "s = int(input())\n",
    "\n",
    "\n",
    "time = tm(h, m, s)\n",
    "\n",
    "time.cor()\n",
    "\n",
    "print(str(time))\n",
    "\n",
    "time.inc_sec()\n",
    "\n",
    "time.cor()\n",
    "\n",
    "print(str(time))\n"
   ]
  }
 ],
 "metadata": {
  "kernelspec": {
   "display_name": "Python 3",
   "language": "python",
   "name": "python3"
  },
  "language_info": {
   "codemirror_mode": {
    "name": "ipython",
    "version": 3
   },
   "file_extension": ".py",
   "mimetype": "text/x-python",
   "name": "python",
   "nbconvert_exporter": "python",
   "pygments_lexer": "ipython3",
   "version": "3.9.6"
  }
 },
 "nbformat": 4,
 "nbformat_minor": 2
}
